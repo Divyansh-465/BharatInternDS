{
 "cells": [
  {
   "cell_type": "code",
   "execution_count": 2,
   "metadata": {
    "_cell_guid": "b1076dfc-b9ad-4769-8c92-a6c4dae69d19",
    "_uuid": "8f2839f25d086af736a60e9eeb907d3b93b6e0e5",
    "execution": {
     "iopub.execute_input": "2023-10-15T07:38:47.437423Z",
     "iopub.status.busy": "2023-10-15T07:38:47.436749Z",
     "iopub.status.idle": "2023-10-15T07:38:51.007920Z",
     "shell.execute_reply": "2023-10-15T07:38:51.007214Z",
     "shell.execute_reply.started": "2023-10-14T12:38:25.060893Z"
    },
    "papermill": {
     "duration": 3.585852,
     "end_time": "2023-10-15T07:38:51.008045",
     "exception": false,
     "start_time": "2023-10-15T07:38:47.422193",
     "status": "completed"
    },
    "tags": []
   },
   "outputs": [],
   "source": [
    "import numpy as np\n",
    "import pandas as pd\n",
    "from matplotlib import pyplot as plt\n",
    "\n",
    "data = pd.read_csv('/kaggle/input/digit-recognizer/train.csv')"
   ]
  },
  {
   "cell_type": "code",
   "execution_count": 3,
   "metadata": {
    "execution": {
     "iopub.execute_input": "2023-10-15T07:38:51.031985Z",
     "iopub.status.busy": "2023-10-15T07:38:51.031248Z",
     "iopub.status.idle": "2023-10-15T07:38:51.818007Z",
     "shell.execute_reply": "2023-10-15T07:38:51.817318Z",
     "shell.execute_reply.started": "2023-10-14T12:38:28.880061Z"
    },
    "papermill": {
     "duration": 0.801051,
     "end_time": "2023-10-15T07:38:51.818129",
     "exception": false,
     "start_time": "2023-10-15T07:38:51.017078",
     "status": "completed"
    },
    "tags": []
   },
   "outputs": [],
   "source": [
    "data = np.array(data)\n",
    "m, n = data.shape\n",
    "np.random.shuffle(data) # shuffle before splitting into dev and training sets\n",
    "\n",
    "data_dev = data[0:1000].T\n",
    "Y_dev = data_dev[0]\n",
    "X_dev = data_dev[1:n]\n",
    "X_dev = X_dev / 255.\n",
    "\n",
    "data_train = data[1000:m].T\n",
    "Y_train = data_train[0]\n",
    "X_train = data_train[1:n]\n",
    "X_train = X_train / 255.\n",
    "_,m_train = X_train.shape"
   ]
  },
  {
   "cell_type": "code",
   "execution_count": 4,
   "metadata": {
    "execution": {
     "iopub.execute_input": "2023-10-15T07:38:51.849955Z",
     "iopub.status.busy": "2023-10-15T07:38:51.848883Z",
     "iopub.status.idle": "2023-10-15T07:38:51.853232Z",
     "shell.execute_reply": "2023-10-15T07:38:51.853743Z",
     "shell.execute_reply.started": "2023-10-14T13:15:18.559096Z"
    },
    "papermill": {
     "duration": 0.027588,
     "end_time": "2023-10-15T07:38:51.853898",
     "exception": false,
     "start_time": "2023-10-15T07:38:51.826310",
     "status": "completed"
    },
    "tags": []
   },
   "outputs": [
    {
     "data": {
      "text/plain": [
       "array([6, 3, 5, ..., 6, 2, 3])"
      ]
     },
     "execution_count": 4,
     "metadata": {},
     "output_type": "execute_result"
    }
   ],
   "source": [
    "Y_train"
   ]
  },
  {
   "cell_type": "code",
   "execution_count": 5,
   "metadata": {
    "execution": {
     "iopub.execute_input": "2023-10-15T07:38:51.875220Z",
     "iopub.status.busy": "2023-10-15T07:38:51.874100Z",
     "iopub.status.idle": "2023-10-15T07:38:51.893833Z",
     "shell.execute_reply": "2023-10-15T07:38:51.892187Z",
     "shell.execute_reply.started": "2023-10-14T12:38:29.669603Z"
    },
    "papermill": {
     "duration": 0.031595,
     "end_time": "2023-10-15T07:38:51.894013",
     "exception": false,
     "start_time": "2023-10-15T07:38:51.862418",
     "status": "completed"
    },
    "tags": []
   },
   "outputs": [],
   "source": [
    "def init_params():\n",
    "    W1 = np.random.rand(10, 784) - 0.5\n",
    "    b1 = np.random.rand(10, 1) - 0.5\n",
    "    W2 = np.random.rand(10, 10) - 0.5\n",
    "    b2 = np.random.rand(10, 1) - 0.5\n",
    "    return W1, b1, W2, b2\n",
    "\n",
    "def ReLU(Z):\n",
    "    return np.maximum(Z, 0)\n",
    "\n",
    "def softmax(Z):\n",
    "    A = np.exp(Z) / sum(np.exp(Z))\n",
    "    return A\n",
    "    \n",
    "def forward_prop(W1, b1, W2, b2, X):\n",
    "    Z1 = W1.dot(X) + b1\n",
    "    A1 = ReLU(Z1)\n",
    "    Z2 = W2.dot(A1) + b2\n",
    "    A2 = softmax(Z2)\n",
    "    return Z1, A1, Z2, A2\n",
    "\n",
    "def ReLU_deriv(Z):\n",
    "    return Z > 0\n",
    "\n",
    "def one_hot(Y):\n",
    "    one_hot_Y = np.zeros((Y.size, Y.max() + 1))\n",
    "    one_hot_Y[np.arange(Y.size), Y] = 1\n",
    "    one_hot_Y = one_hot_Y.T\n",
    "    return one_hot_Y\n",
    "\n",
    "def backward_prop(Z1, A1, Z2, A2, W1, W2, X, Y):\n",
    "    one_hot_Y = one_hot(Y)\n",
    "    dZ2 = A2 - one_hot_Y\n",
    "    dW2 = 1 / m * dZ2.dot(A1.T)\n",
    "    db2 = 1 / m * np.sum(dZ2)\n",
    "    dZ1 = W2.T.dot(dZ2) * ReLU_deriv(Z1)\n",
    "    dW1 = 1 / m * dZ1.dot(X.T)\n",
    "    db1 = 1 / m * np.sum(dZ1)\n",
    "    return dW1, db1, dW2, db2\n",
    "\n",
    "def update_params(W1, b1, W2, b2, dW1, db1, dW2, db2, alpha):\n",
    "    W1 = W1 - alpha * dW1\n",
    "    b1 = b1 - alpha * db1    \n",
    "    W2 = W2 - alpha * dW2  \n",
    "    b2 = b2 - alpha * db2    \n",
    "    return W1, b1, W2, b2"
   ]
  },
  {
   "cell_type": "code",
   "execution_count": 6,
   "metadata": {
    "execution": {
     "iopub.execute_input": "2023-10-15T07:38:51.921993Z",
     "iopub.status.busy": "2023-10-15T07:38:51.921334Z",
     "iopub.status.idle": "2023-10-15T07:38:51.923944Z",
     "shell.execute_reply": "2023-10-15T07:38:51.924503Z",
     "shell.execute_reply.started": "2023-10-14T13:19:50.121814Z"
    },
    "papermill": {
     "duration": 0.021518,
     "end_time": "2023-10-15T07:38:51.924656",
     "exception": false,
     "start_time": "2023-10-15T07:38:51.903138",
     "status": "completed"
    },
    "tags": []
   },
   "outputs": [],
   "source": [
    "def get_predictions(A2):\n",
    "    return np.argmax(A2, 0)\n",
    "\n",
    "def get_accuracy(predictions, Y):\n",
    "    print(predictions, Y)\n",
    "    return np.sum(predictions == Y) / Y.size\n",
    "\n",
    "def gradient_descent(X, Y, alpha, iterations):\n",
    "    W1, b1, W2, b2 = init_params()\n",
    "    for i in range(iterations):\n",
    "        Z1, A1, Z2, A2 = forward_prop(W1, b1, W2, b2, X)\n",
    "        dW1, db1, dW2, db2 = backward_prop(Z1, A1, Z2, A2, W1, W2, X, Y)\n",
    "        W1, b1, W2, b2 = update_params(W1, b1, W2, b2, dW1, db1, dW2, db2, alpha)\n",
    "        if i % 10 == 0:\n",
    "            print(\"Iteration: \", i)\n",
    "            predictions = get_predictions(A2)\n",
    "            print(get_accuracy(predictions, Y))\n",
    "    return W1, b1, W2, b2"
   ]
  },
  {
   "cell_type": "code",
   "execution_count": 7,
   "metadata": {
    "execution": {
     "iopub.execute_input": "2023-10-15T07:38:51.945169Z",
     "iopub.status.busy": "2023-10-15T07:38:51.944213Z",
     "iopub.status.idle": "2023-10-15T07:39:36.031889Z",
     "shell.execute_reply": "2023-10-15T07:39:36.031362Z",
     "shell.execute_reply.started": "2023-10-14T13:19:56.242698Z"
    },
    "papermill": {
     "duration": 44.099283,
     "end_time": "2023-10-15T07:39:36.032021",
     "exception": false,
     "start_time": "2023-10-15T07:38:51.932738",
     "status": "completed"
    },
    "tags": []
   },
   "outputs": [
    {
     "name": "stdout",
     "output_type": "stream",
     "text": [
      "Iteration:  0\n",
      "[3 7 9 ... 3 6 7] [6 3 5 ... 6 2 3]\n",
      "0.06090243902439024\n",
      "Iteration:  10\n",
      "[1 7 1 ... 9 8 7] [6 3 5 ... 6 2 3]\n",
      "0.13875609756097562\n",
      "Iteration:  20\n",
      "[1 1 1 ... 9 8 7] [6 3 5 ... 6 2 3]\n",
      "0.20153658536585367\n",
      "Iteration:  30\n",
      "[1 7 1 ... 9 8 3] [6 3 5 ... 6 2 3]\n",
      "0.2547560975609756\n",
      "Iteration:  40\n",
      "[1 7 1 ... 9 8 3] [6 3 5 ... 6 2 3]\n",
      "0.30497560975609755\n",
      "Iteration:  50\n",
      "[1 3 9 ... 9 8 3] [6 3 5 ... 6 2 3]\n",
      "0.3553170731707317\n",
      "Iteration:  60\n",
      "[1 6 3 ... 4 8 3] [6 3 5 ... 6 2 3]\n",
      "0.4052439024390244\n",
      "Iteration:  70\n",
      "[1 6 3 ... 4 8 3] [6 3 5 ... 6 2 3]\n",
      "0.451609756097561\n",
      "Iteration:  80\n",
      "[2 6 3 ... 6 2 3] [6 3 5 ... 6 2 3]\n",
      "0.49970731707317073\n",
      "Iteration:  90\n",
      "[2 0 3 ... 6 2 3] [6 3 5 ... 6 2 3]\n",
      "0.5417560975609756\n",
      "Iteration:  100\n",
      "[6 0 8 ... 6 2 3] [6 3 5 ... 6 2 3]\n",
      "0.5827317073170731\n",
      "Iteration:  110\n",
      "[6 0 8 ... 6 2 3] [6 3 5 ... 6 2 3]\n",
      "0.6119512195121951\n",
      "Iteration:  120\n",
      "[6 0 8 ... 6 2 3] [6 3 5 ... 6 2 3]\n",
      "0.6350731707317073\n",
      "Iteration:  130\n",
      "[6 0 8 ... 6 2 3] [6 3 5 ... 6 2 3]\n",
      "0.6549756097560976\n",
      "Iteration:  140\n",
      "[6 0 8 ... 6 2 3] [6 3 5 ... 6 2 3]\n",
      "0.6712439024390244\n",
      "Iteration:  150\n",
      "[6 0 8 ... 6 2 3] [6 3 5 ... 6 2 3]\n",
      "0.6863902439024391\n",
      "Iteration:  160\n",
      "[6 0 8 ... 6 2 3] [6 3 5 ... 6 2 3]\n",
      "0.6980731707317073\n",
      "Iteration:  170\n",
      "[6 0 8 ... 6 2 3] [6 3 5 ... 6 2 3]\n",
      "0.7097073170731707\n",
      "Iteration:  180\n",
      "[6 0 8 ... 6 2 3] [6 3 5 ... 6 2 3]\n",
      "0.7197073170731707\n",
      "Iteration:  190\n",
      "[6 0 8 ... 6 2 3] [6 3 5 ... 6 2 3]\n",
      "0.7286585365853658\n",
      "Iteration:  200\n",
      "[6 0 8 ... 6 2 3] [6 3 5 ... 6 2 3]\n",
      "0.7366585365853658\n",
      "Iteration:  210\n",
      "[6 0 8 ... 6 2 3] [6 3 5 ... 6 2 3]\n",
      "0.744\n",
      "Iteration:  220\n",
      "[6 0 8 ... 6 2 3] [6 3 5 ... 6 2 3]\n",
      "0.7516341463414634\n",
      "Iteration:  230\n",
      "[6 0 8 ... 6 2 3] [6 3 5 ... 6 2 3]\n",
      "0.7578536585365854\n",
      "Iteration:  240\n",
      "[6 0 8 ... 6 2 3] [6 3 5 ... 6 2 3]\n",
      "0.7638292682926829\n",
      "Iteration:  250\n",
      "[6 0 8 ... 6 2 3] [6 3 5 ... 6 2 3]\n",
      "0.7701463414634147\n",
      "Iteration:  260\n",
      "[6 0 8 ... 6 2 3] [6 3 5 ... 6 2 3]\n",
      "0.7756585365853659\n",
      "Iteration:  270\n",
      "[6 0 8 ... 6 2 3] [6 3 5 ... 6 2 3]\n",
      "0.7805365853658537\n",
      "Iteration:  280\n",
      "[6 0 8 ... 6 2 3] [6 3 5 ... 6 2 3]\n",
      "0.7847804878048781\n",
      "Iteration:  290\n",
      "[6 0 8 ... 6 2 3] [6 3 5 ... 6 2 3]\n",
      "0.7879268292682927\n",
      "Iteration:  300\n",
      "[6 0 5 ... 6 2 3] [6 3 5 ... 6 2 3]\n",
      "0.7917804878048781\n",
      "Iteration:  310\n",
      "[6 0 5 ... 6 2 3] [6 3 5 ... 6 2 3]\n",
      "0.7948780487804878\n",
      "Iteration:  320\n",
      "[6 0 5 ... 6 2 3] [6 3 5 ... 6 2 3]\n",
      "0.7977560975609757\n",
      "Iteration:  330\n",
      "[6 0 5 ... 6 2 3] [6 3 5 ... 6 2 3]\n",
      "0.8006341463414635\n",
      "Iteration:  340\n",
      "[6 0 5 ... 6 2 3] [6 3 5 ... 6 2 3]\n",
      "0.8031951219512196\n",
      "Iteration:  350\n",
      "[6 0 5 ... 6 2 3] [6 3 5 ... 6 2 3]\n",
      "0.8057317073170732\n",
      "Iteration:  360\n",
      "[6 0 5 ... 6 2 3] [6 3 5 ... 6 2 3]\n",
      "0.8081463414634147\n",
      "Iteration:  370\n",
      "[6 0 5 ... 6 2 3] [6 3 5 ... 6 2 3]\n",
      "0.8104878048780488\n",
      "Iteration:  380\n",
      "[6 0 5 ... 6 2 3] [6 3 5 ... 6 2 3]\n",
      "0.8133658536585365\n",
      "Iteration:  390\n",
      "[6 0 5 ... 6 2 3] [6 3 5 ... 6 2 3]\n",
      "0.8155365853658536\n",
      "Iteration:  400\n",
      "[6 0 5 ... 6 2 3] [6 3 5 ... 6 2 3]\n",
      "0.8174634146341463\n",
      "Iteration:  410\n",
      "[6 0 5 ... 6 2 3] [6 3 5 ... 6 2 3]\n",
      "0.8193170731707317\n",
      "Iteration:  420\n",
      "[6 0 5 ... 6 2 3] [6 3 5 ... 6 2 3]\n",
      "0.8210731707317073\n",
      "Iteration:  430\n",
      "[6 0 5 ... 6 2 3] [6 3 5 ... 6 2 3]\n",
      "0.8226341463414634\n",
      "Iteration:  440\n",
      "[6 0 5 ... 6 2 3] [6 3 5 ... 6 2 3]\n",
      "0.8244878048780487\n",
      "Iteration:  450\n",
      "[6 0 5 ... 6 2 3] [6 3 5 ... 6 2 3]\n",
      "0.8264634146341463\n",
      "Iteration:  460\n",
      "[6 0 5 ... 6 2 3] [6 3 5 ... 6 2 3]\n",
      "0.8282195121951219\n",
      "Iteration:  470\n",
      "[6 0 5 ... 6 2 3] [6 3 5 ... 6 2 3]\n",
      "0.8295121951219512\n",
      "Iteration:  480\n",
      "[6 0 5 ... 6 2 3] [6 3 5 ... 6 2 3]\n",
      "0.8309268292682926\n",
      "Iteration:  490\n",
      "[6 0 5 ... 6 2 3] [6 3 5 ... 6 2 3]\n",
      "0.8321463414634146\n"
     ]
    }
   ],
   "source": [
    "W1, b1, W2, b2 = gradient_descent(X_train, Y_train, 0.10, 500)"
   ]
  },
  {
   "cell_type": "code",
   "execution_count": 8,
   "metadata": {
    "execution": {
     "iopub.execute_input": "2023-10-15T07:39:36.121219Z",
     "iopub.status.busy": "2023-10-15T07:39:36.120253Z",
     "iopub.status.idle": "2023-10-15T07:39:36.128237Z",
     "shell.execute_reply": "2023-10-15T07:39:36.128767Z",
     "shell.execute_reply.started": "2023-10-14T13:20:57.972263Z"
    },
    "papermill": {
     "duration": 0.033874,
     "end_time": "2023-10-15T07:39:36.128915",
     "exception": false,
     "start_time": "2023-10-15T07:39:36.095041",
     "status": "completed"
    },
    "tags": []
   },
   "outputs": [],
   "source": [
    "def make_predictions(X, W1, b1, W2, b2):\n",
    "    _, _, _, A2 = forward_prop(W1, b1, W2, b2, X)\n",
    "    predictions = get_predictions(A2)\n",
    "    return predictions\n",
    "\n",
    "def test_prediction(index, W1, b1, W2, b2):\n",
    "    current_image = X_train[:, index, None]\n",
    "    prediction = make_predictions(X_train[:, index, None], W1, b1, W2, b2)\n",
    "    label = Y_train[index]\n",
    "    print(\"Prediction: \", prediction)\n",
    "    print(\"Label: \", label)\n",
    "    \n",
    "    current_image = current_image.reshape((28, 28)) * 255\n",
    "    plt.gray()\n",
    "    plt.imshow(current_image, interpolation='nearest')\n",
    "    plt.show()"
   ]
  },
  {
   "cell_type": "code",
   "execution_count": 9,
   "metadata": {
    "execution": {
     "iopub.execute_input": "2023-10-15T07:39:36.175125Z",
     "iopub.status.busy": "2023-10-15T07:39:36.174096Z",
     "iopub.status.idle": "2023-10-15T07:39:36.398016Z",
     "shell.execute_reply": "2023-10-15T07:39:36.397551Z",
     "shell.execute_reply.started": "2023-10-14T13:21:26.687713Z"
    },
    "papermill": {
     "duration": 0.24899,
     "end_time": "2023-10-15T07:39:36.398136",
     "exception": false,
     "start_time": "2023-10-15T07:39:36.149146",
     "status": "completed"
    },
    "tags": []
   },
   "outputs": [
    {
     "name": "stdout",
     "output_type": "stream",
     "text": [
      "Prediction:  [9]\n",
      "Label:  5\n"
     ]
    },
    {
     "data": {
      "image/png": "[encoded data removed]",
      "text/plain": [
       "<Figure size 432x288 with 1 Axes>"
      ]
     },
     "metadata": {
      "needs_background": "light"
     },
     "output_type": "display_data"
    }
   ],
   "source": [
    "test_prediction(349, W1, b1, W2, b2)"
   ]
  },
  {
   "cell_type": "code",
   "execution_count": 10,
   "metadata": {
    "execution": {
     "iopub.execute_input": "2023-10-15T07:39:36.443716Z",
     "iopub.status.busy": "2023-10-15T07:39:36.442752Z",
     "iopub.status.idle": "2023-10-15T07:39:36.456019Z",
     "shell.execute_reply": "2023-10-15T07:39:36.456553Z",
     "shell.execute_reply.started": "2023-10-14T12:39:24.884238Z"
    },
    "papermill": {
     "duration": 0.037567,
     "end_time": "2023-10-15T07:39:36.456700",
     "exception": false,
     "start_time": "2023-10-15T07:39:36.419133",
     "status": "completed"
    },
    "tags": []
   },
   "outputs": [
    {
     "name": "stdout",
     "output_type": "stream",
     "text": [
      "[5 0 9 0 3 7 6 6 2 5 8 1 7 8 3 4 9 2 4 8 5 2 3 7 8 8 9 7 9 2 4 5 5 0 4 8 4\n",
      " 8 2 6 2 0 7 8 9 8 3 6 4 9 1 7 0 9 2 1 2 7 0 7 7 7 4 6 9 9 3 8 3 1 0 3 7 4\n",
      " 3 7 1 6 2 6 2 2 0 9 1 4 9 4 0 8 6 7 9 0 9 1 0 0 0 8 5 8 1 0 1 4 0 1 8 6 5\n",
      " 8 1 8 3 4 0 4 8 6 8 0 4 3 6 2 4 3 5 0 6 0 8 0 3 3 9 8 8 8 8 1 1 9 7 6 3 4\n",
      " 1 0 6 7 0 5 1 9 9 3 0 9 2 1 9 7 0 0 2 4 6 0 6 8 7 7 6 3 1 3 3 9 8 2 5 3 2\n",
      " 1 5 1 9 5 3 3 2 0 3 0 0 2 1 4 5 2 6 0 0 4 0 8 5 8 3 9 9 5 7 2 5 7 7 9 9 7\n",
      " 0 9 0 6 9 9 0 2 1 6 7 9 2 0 0 7 0 5 6 4 1 8 5 7 5 6 1 5 3 3 9 5 5 0 5 8 5\n",
      " 8 3 0 1 8 6 6 1 8 4 9 7 4 3 7 8 2 5 0 5 2 7 3 0 8 6 5 8 8 7 0 5 5 7 3 4 9\n",
      " 0 5 4 4 3 6 7 4 2 0 4 4 2 7 2 7 0 7 3 5 2 9 5 3 8 2 1 2 1 3 8 4 9 0 8 8 8\n",
      " 8 7 3 9 9 4 4 5 1 9 4 7 3 3 3 1 0 3 6 0 2 1 5 4 3 9 6 9 7 4 0 2 8 3 0 9 9\n",
      " 9 4 6 1 3 4 7 5 5 0 1 1 0 4 7 3 1 1 5 4 7 4 3 9 1 6 1 1 4 3 3 1 4 4 0 2 0\n",
      " 8 8 4 1 0 6 4 4 4 5 2 9 5 4 2 3 4 2 1 3 6 9 7 8 1 2 6 9 8 1 4 7 3 1 2 5 2\n",
      " 8 9 7 0 7 1 3 4 2 1 5 6 7 3 8 9 6 1 9 7 0 1 9 4 0 3 6 0 3 3 2 2 1 4 2 1 7\n",
      " 7 1 3 0 2 8 8 6 0 6 3 1 8 8 3 0 3 9 7 7 4 5 2 4 1 2 7 0 8 3 5 6 3 4 0 1 6\n",
      " 8 7 5 3 9 3 4 0 4 1 1 1 0 0 5 2 2 6 3 4 1 8 9 6 2 9 3 8 8 3 1 6 7 5 7 5 5\n",
      " 3 0 7 5 7 1 1 8 8 3 1 6 2 4 0 0 4 0 5 2 0 0 5 8 8 6 9 2 5 3 9 3 3 6 8 9 3\n",
      " 9 5 4 5 5 0 4 7 0 9 5 6 5 8 2 7 2 1 6 7 0 4 2 0 7 3 3 3 9 4 6 4 7 4 0 2 9\n",
      " 1 2 6 4 5 5 6 0 4 9 4 1 8 1 3 5 1 5 6 3 4 6 7 8 8 1 5 1 0 8 1 6 0 1 0 7 9\n",
      " 1 9 6 0 6 9 9 3 8 1 3 8 9 9 3 0 1 7 6 2 9 2 6 9 2 6 2 1 2 2 4 4 0 5 0 2 4\n",
      " 4 6 5 1 4 6 0 4 0 9 3 4 1 9 4 9 0 4 5 2 8 5 0 8 7 9 2 1 2 5 4 3 1 2 7 1 2\n",
      " 4 9 6 5 2 7 9 0 7 1 4 7 6 4 2 2 9 0 6 9 0 2 8 2 1 3 8 1 7 5 9 8 9 5 6 3 1\n",
      " 9 6 2 6 6 4 3 8 3 3 5 9 2 6 3 6 8 1 9 0 3 4 6 6 3 1 1 8 1 5 8 1 0 2 5 2 8\n",
      " 1 2 2 2 5 7 6 8 9 3 6 5 8 0 5 0 0 4 6 0 0 1 7 4 4 0 6 0 3 1 6 9 2 7 2 0 4\n",
      " 4 0 1 7 9 6 6 1 9 9 0 1 3 0 1 8 4 2 1 3 9 9 3 2 9 0 9 4 4 1 6 6 6 7 8 0 1\n",
      " 4 0 7 7 0 9 6 3 6 7 3 8 3 7 1 3 0 3 1 5 9 5 9 3 1 8 8 3 2 1 7 5 0 1 3 9 2\n",
      " 2 7 4 3 0 1 1 3 8 8 7 6 7 7 2 9 2 4 1 8 6 9 4 7 7 8 0 3 6 2 3 8 1 7 1 6 4\n",
      " 6 0 4 9 6 0 2 4 0 6 4 3 7 3 6 3 0 6 2 3 7 0 5 2 9 6 0 2 1 0 0 4 4 4 5 6 0\n",
      " 8] [5 0 9 0 3 7 6 6 2 5 8 1 7 3 3 4 3 2 4 8 5 2 3 7 8 8 9 7 4 2 4 5 5 0 4 8 4\n",
      " 8 2 6 2 0 7 8 9 8 3 6 7 9 1 7 0 9 2 1 3 7 6 7 7 5 4 6 3 7 8 8 3 1 0 3 9 4\n",
      " 3 9 1 6 2 9 1 2 0 9 1 4 9 4 0 8 6 7 9 0 9 1 0 0 0 2 8 8 1 0 1 4 0 1 8 6 5\n",
      " 8 1 8 3 5 0 9 2 6 8 0 4 3 6 2 4 3 5 0 6 0 8 0 9 3 9 8 9 8 8 1 7 9 7 6 5 4\n",
      " 1 0 6 7 0 5 1 9 9 3 0 7 2 1 7 7 0 0 2 4 6 0 6 8 7 7 6 3 1 3 0 9 8 2 8 3 2\n",
      " 1 5 1 7 5 3 3 2 0 3 0 0 2 1 8 5 6 6 0 2 9 0 2 5 8 3 9 9 5 7 8 5 7 7 9 9 7\n",
      " 0 9 2 6 9 4 0 3 1 6 7 9 2 0 0 7 0 5 6 4 1 2 3 7 5 6 1 5 3 3 9 5 5 0 3 8 4\n",
      " 8 0 0 1 8 6 6 1 8 4 9 3 4 3 7 2 2 5 0 5 2 7 2 0 5 6 5 8 8 7 0 5 3 1 3 4 9\n",
      " 0 5 4 4 3 6 7 4 2 0 4 4 2 7 2 7 0 7 3 5 2 9 5 3 8 2 5 5 1 3 8 4 9 0 8 8 6\n",
      " 8 7 3 9 9 4 4 5 1 9 4 7 3 3 3 1 0 3 6 0 5 1 5 4 3 9 6 9 7 4 0 2 3 3 5 9 9\n",
      " 4 4 6 1 3 4 7 5 5 0 1 1 0 4 7 3 3 1 5 4 7 9 3 9 2 6 1 1 9 3 3 2 4 4 0 2 0\n",
      " 3 8 4 1 0 6 4 4 4 5 9 9 5 9 2 3 4 2 1 9 6 9 9 8 1 2 6 9 8 1 4 7 3 1 2 5 2\n",
      " 3 9 7 0 7 1 3 4 2 1 5 6 7 3 8 9 6 1 4 7 0 1 4 9 0 3 6 0 3 3 2 2 1 4 2 1 7\n",
      " 3 1 3 0 2 5 8 6 0 6 3 1 7 8 3 5 3 5 7 7 4 5 2 4 1 2 7 0 8 3 8 6 5 4 0 1 5\n",
      " 8 7 8 3 4 3 4 0 9 1 1 1 0 0 5 2 2 6 8 4 1 3 9 6 2 9 5 8 8 3 1 6 7 5 7 5 5\n",
      " 3 0 7 5 2 1 1 8 8 3 1 6 2 4 0 0 4 0 9 2 0 0 5 8 8 6 4 2 5 3 9 3 3 6 8 9 3\n",
      " 9 3 4 8 5 0 4 7 0 9 5 6 7 8 2 7 2 1 6 7 0 4 2 0 7 3 2 3 9 4 6 4 7 4 0 2 5\n",
      " 7 2 6 4 5 5 6 0 4 9 4 1 8 1 3 5 1 5 6 9 4 6 7 9 8 1 5 1 3 8 1 6 0 1 5 7 9\n",
      " 1 9 6 0 6 7 9 3 8 1 3 4 7 9 3 0 1 7 6 2 7 8 6 9 2 6 2 1 2 2 4 8 0 5 0 2 4\n",
      " 4 6 5 1 9 6 0 4 0 9 3 4 1 9 4 9 0 4 5 2 8 0 0 8 9 9 2 1 2 5 6 3 1 2 7 1 2\n",
      " 4 9 6 5 2 7 9 0 7 1 4 7 6 4 2 7 9 0 6 4 0 2 8 2 1 3 8 1 7 8 9 8 9 5 6 9 1\n",
      " 4 6 2 6 6 4 3 8 3 5 8 9 2 5 3 5 8 2 9 0 3 6 6 6 3 1 1 8 1 5 8 1 3 6 5 2 2\n",
      " 1 2 2 2 5 7 6 1 4 3 6 5 8 0 5 0 0 4 6 0 0 1 9 4 2 0 6 0 3 1 5 9 2 7 3 0 4\n",
      " 4 0 1 7 4 6 6 1 9 9 0 1 8 0 1 8 4 6 1 3 9 9 3 2 7 0 9 9 5 1 6 6 6 7 3 0 1\n",
      " 4 0 7 7 0 9 6 3 6 7 3 8 3 7 1 3 0 8 1 5 9 9 9 3 1 8 8 3 7 1 7 5 0 1 3 4 2\n",
      " 2 7 9 3 0 1 1 3 8 8 7 6 9 7 2 9 2 4 1 8 6 9 4 7 7 5 0 3 6 2 8 8 1 7 1 6 4\n",
      " 6 0 4 9 6 0 2 6 0 6 4 3 7 3 6 5 0 6 3 3 7 0 5 2 9 6 0 2 1 0 0 4 4 4 3 6 0\n",
      " 3]\n"
     ]
    },
    {
     "data": {
      "text/plain": [
       "0.854"
      ]
     },
     "execution_count": 10,
     "metadata": {},
     "output_type": "execute_result"
    }
   ],
   "source": [
    "dev_predictions = make_predictions(X_dev, W1, b1, W2, b2)\n",
    "get_accuracy(dev_predictions, Y_dev)"
   ]
  }
 ],
 "metadata": {
  "kernelspec": {
   "display_name": "Python 3",
   "language": "python",
   "name": "python3"
  },
  "language_info": {
   "codemirror_mode": {
    "name": "ipython",
    "version": 3
   },
   "file_extension": ".py",
   "mimetype": "text/x-python",
   "name": "python",
   "nbconvert_exporter": "python",
   "pygments_lexer": "ipython3",
   "version": "3.7.6"
  },
  "papermill": {
   "duration": 53.642582,
   "end_time": "2023-10-15T07:39:36.628647",
   "environment_variables": {},
   "exception": null,
   "input_path": "__notebook__.ipynb",
   "output_path": "__notebook__.ipynb",
   "parameters": {},
   "start_time": "2023-10-15T07:38:42.986065",
   "version": "2.1.0"
  }
 },
 "nbformat": 4,
 "nbformat_minor": 4
}
